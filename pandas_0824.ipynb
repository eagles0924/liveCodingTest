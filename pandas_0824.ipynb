{
 "cells": [
  {
   "cell_type": "code",
   "execution_count": 1,
   "id": "99daf8a7",
   "metadata": {},
   "outputs": [],
   "source": [
    "import pandas as pd"
   ]
  },
  {
   "cell_type": "code",
   "execution_count": 2,
   "id": "34b7e574",
   "metadata": {},
   "outputs": [
    {
     "data": {
      "text/html": [
       "<div>\n",
       "<style scoped>\n",
       "    .dataframe tbody tr th:only-of-type {\n",
       "        vertical-align: middle;\n",
       "    }\n",
       "\n",
       "    .dataframe tbody tr th {\n",
       "        vertical-align: top;\n",
       "    }\n",
       "\n",
       "    .dataframe thead th {\n",
       "        text-align: right;\n",
       "    }\n",
       "</style>\n",
       "<table border=\"1\" class=\"dataframe\">\n",
       "  <thead>\n",
       "    <tr style=\"text-align: right;\">\n",
       "      <th></th>\n",
       "      <th>requester_id</th>\n",
       "      <th>accepter_id</th>\n",
       "      <th>accept_date</th>\n",
       "    </tr>\n",
       "  </thead>\n",
       "  <tbody>\n",
       "    <tr>\n",
       "      <th>0</th>\n",
       "      <td>1</td>\n",
       "      <td>2</td>\n",
       "      <td>2016-06-03</td>\n",
       "    </tr>\n",
       "    <tr>\n",
       "      <th>1</th>\n",
       "      <td>1</td>\n",
       "      <td>3</td>\n",
       "      <td>2016-06-08</td>\n",
       "    </tr>\n",
       "    <tr>\n",
       "      <th>2</th>\n",
       "      <td>2</td>\n",
       "      <td>3</td>\n",
       "      <td>2016-06-08</td>\n",
       "    </tr>\n",
       "    <tr>\n",
       "      <th>3</th>\n",
       "      <td>3</td>\n",
       "      <td>4</td>\n",
       "      <td>2016-06-09</td>\n",
       "    </tr>\n",
       "  </tbody>\n",
       "</table>\n",
       "</div>"
      ],
      "text/plain": [
       "   requester_id  accepter_id accept_date\n",
       "0             1            2  2016-06-03\n",
       "1             1            3  2016-06-08\n",
       "2             2            3  2016-06-08\n",
       "3             3            4  2016-06-09"
      ]
     },
     "execution_count": 2,
     "metadata": {},
     "output_type": "execute_result"
    }
   ],
   "source": [
    "data = [[1, 2, '2016/06/03'], [1, 3, '2016/06/08'], [2, 3, '2016/06/08'], [3, 4, '2016/06/09']]\n",
    "request_accepted = pd.DataFrame(data, columns=['requester_id', 'accepter_id', 'accept_date']).astype({'requester_id':'Int64', 'accepter_id':'Int64', 'accept_date':'datetime64[ns]'})\n",
    "request_accepted"
   ]
  },
  {
   "cell_type": "code",
   "execution_count": null,
   "id": "18347310",
   "metadata": {},
   "outputs": [
    {
     "data": {
      "text/plain": [
       "3    3\n",
       "1    2\n",
       "2    2\n",
       "4    1\n",
       "Name: count, dtype: Int64"
      ]
     },
     "execution_count": 32,
     "metadata": {},
     "output_type": "execute_result"
    }
   ],
   "source": [
    "req = request_accepted['requester_id']\n",
    "acc = request_accepted['accepter_id']\n",
    "req_acc = pd.concat([req, acc])\n",
    "req_acc.value_counts()\n",
    "cnt = req_acc.value_counts()\n",
    "cnt[cnt == cnt.max()]\n",
    "pd.DataFrame({'id': cnt[cnt == cnt.max()].index, 'num': cnt[cnt == cnt.max()].values})"
   ]
  },
  {
   "cell_type": "markdown",
   "id": "823b2291",
   "metadata": {},
   "source": [
    "value_counts() 사용하는 방법"
   ]
  },
  {
   "cell_type": "code",
   "execution_count": 44,
   "id": "5fddf5a8",
   "metadata": {},
   "outputs": [
    {
     "data": {
      "text/plain": [
       "requester_id\n",
       "1    2\n",
       "2    1\n",
       "3    1\n",
       "Name: accepter_id, dtype: Int64"
      ]
     },
     "execution_count": 44,
     "metadata": {},
     "output_type": "execute_result"
    }
   ],
   "source": [
    "request_accepted.groupby('requester_id')['accepter_id'].count()"
   ]
  },
  {
   "cell_type": "code",
   "execution_count": 49,
   "id": "c089201d",
   "metadata": {},
   "outputs": [
    {
     "name": "stdout",
     "output_type": "stream",
     "text": [
      "3\n",
      "3\n"
     ]
    }
   ],
   "source": [
    "rv = request_accepted['requester_id'].value_counts()\n",
    "av = request_accepted['accepter_id'].value_counts()\n",
    "ans = rv.add(av, fill_value=0)\n",
    "print((ans.idxmax()))\n",
    "print((ans.max()))"
   ]
  },
  {
   "cell_type": "markdown",
   "id": "fabf921d",
   "metadata": {},
   "source": [
    "## 607. Sales Person\n",
    "\n",
    "Write a solution to find the names of all the salespersons who did not have any orders related to the company with the name \"RED\".\n",
    "\n",
    "Return the result table in any order.\n",
    "\n",
    "The result format is in the following example."
   ]
  },
  {
   "cell_type": "code",
   "execution_count": 63,
   "id": "5b0bd6c2",
   "metadata": {},
   "outputs": [
    {
     "data": {
      "text/html": [
       "<div>\n",
       "<style scoped>\n",
       "    .dataframe tbody tr th:only-of-type {\n",
       "        vertical-align: middle;\n",
       "    }\n",
       "\n",
       "    .dataframe tbody tr th {\n",
       "        vertical-align: top;\n",
       "    }\n",
       "\n",
       "    .dataframe thead th {\n",
       "        text-align: right;\n",
       "    }\n",
       "</style>\n",
       "<table border=\"1\" class=\"dataframe\">\n",
       "  <thead>\n",
       "    <tr style=\"text-align: right;\">\n",
       "      <th></th>\n",
       "      <th>sales_id</th>\n",
       "      <th>name</th>\n",
       "      <th>salary</th>\n",
       "      <th>commission_rate</th>\n",
       "      <th>hire_date</th>\n",
       "    </tr>\n",
       "  </thead>\n",
       "  <tbody>\n",
       "    <tr>\n",
       "      <th>0</th>\n",
       "      <td>1</td>\n",
       "      <td>John</td>\n",
       "      <td>100000</td>\n",
       "      <td>6</td>\n",
       "      <td>2006-04-01</td>\n",
       "    </tr>\n",
       "    <tr>\n",
       "      <th>1</th>\n",
       "      <td>2</td>\n",
       "      <td>Amy</td>\n",
       "      <td>12000</td>\n",
       "      <td>5</td>\n",
       "      <td>2010-05-01</td>\n",
       "    </tr>\n",
       "    <tr>\n",
       "      <th>2</th>\n",
       "      <td>3</td>\n",
       "      <td>Mark</td>\n",
       "      <td>65000</td>\n",
       "      <td>12</td>\n",
       "      <td>2008-12-25</td>\n",
       "    </tr>\n",
       "    <tr>\n",
       "      <th>3</th>\n",
       "      <td>4</td>\n",
       "      <td>Pam</td>\n",
       "      <td>25000</td>\n",
       "      <td>25</td>\n",
       "      <td>2005-01-01</td>\n",
       "    </tr>\n",
       "    <tr>\n",
       "      <th>4</th>\n",
       "      <td>5</td>\n",
       "      <td>Alex</td>\n",
       "      <td>5000</td>\n",
       "      <td>10</td>\n",
       "      <td>2007-02-03</td>\n",
       "    </tr>\n",
       "  </tbody>\n",
       "</table>\n",
       "</div>"
      ],
      "text/plain": [
       "   sales_id  name  salary  commission_rate  hire_date\n",
       "0         1  John  100000                6 2006-04-01\n",
       "1         2   Amy   12000                5 2010-05-01\n",
       "2         3  Mark   65000               12 2008-12-25\n",
       "3         4   Pam   25000               25 2005-01-01\n",
       "4         5  Alex    5000               10 2007-02-03"
      ]
     },
     "metadata": {},
     "output_type": "display_data"
    },
    {
     "data": {
      "text/html": [
       "<div>\n",
       "<style scoped>\n",
       "    .dataframe tbody tr th:only-of-type {\n",
       "        vertical-align: middle;\n",
       "    }\n",
       "\n",
       "    .dataframe tbody tr th {\n",
       "        vertical-align: top;\n",
       "    }\n",
       "\n",
       "    .dataframe thead th {\n",
       "        text-align: right;\n",
       "    }\n",
       "</style>\n",
       "<table border=\"1\" class=\"dataframe\">\n",
       "  <thead>\n",
       "    <tr style=\"text-align: right;\">\n",
       "      <th></th>\n",
       "      <th>com_id</th>\n",
       "      <th>name</th>\n",
       "      <th>city</th>\n",
       "    </tr>\n",
       "  </thead>\n",
       "  <tbody>\n",
       "    <tr>\n",
       "      <th>0</th>\n",
       "      <td>1</td>\n",
       "      <td>RED</td>\n",
       "      <td>Boston</td>\n",
       "    </tr>\n",
       "    <tr>\n",
       "      <th>1</th>\n",
       "      <td>2</td>\n",
       "      <td>ORANGE</td>\n",
       "      <td>New York</td>\n",
       "    </tr>\n",
       "    <tr>\n",
       "      <th>2</th>\n",
       "      <td>3</td>\n",
       "      <td>YELLOW</td>\n",
       "      <td>Boston</td>\n",
       "    </tr>\n",
       "    <tr>\n",
       "      <th>3</th>\n",
       "      <td>4</td>\n",
       "      <td>GREEN</td>\n",
       "      <td>Austin</td>\n",
       "    </tr>\n",
       "  </tbody>\n",
       "</table>\n",
       "</div>"
      ],
      "text/plain": [
       "   com_id    name      city\n",
       "0       1     RED    Boston\n",
       "1       2  ORANGE  New York\n",
       "2       3  YELLOW    Boston\n",
       "3       4   GREEN    Austin"
      ]
     },
     "metadata": {},
     "output_type": "display_data"
    },
    {
     "data": {
      "text/html": [
       "<div>\n",
       "<style scoped>\n",
       "    .dataframe tbody tr th:only-of-type {\n",
       "        vertical-align: middle;\n",
       "    }\n",
       "\n",
       "    .dataframe tbody tr th {\n",
       "        vertical-align: top;\n",
       "    }\n",
       "\n",
       "    .dataframe thead th {\n",
       "        text-align: right;\n",
       "    }\n",
       "</style>\n",
       "<table border=\"1\" class=\"dataframe\">\n",
       "  <thead>\n",
       "    <tr style=\"text-align: right;\">\n",
       "      <th></th>\n",
       "      <th>order_id</th>\n",
       "      <th>order_date</th>\n",
       "      <th>com_id</th>\n",
       "      <th>sales_id</th>\n",
       "      <th>amount</th>\n",
       "    </tr>\n",
       "  </thead>\n",
       "  <tbody>\n",
       "    <tr>\n",
       "      <th>0</th>\n",
       "      <td>1</td>\n",
       "      <td>2014-01-01</td>\n",
       "      <td>3</td>\n",
       "      <td>4</td>\n",
       "      <td>10000</td>\n",
       "    </tr>\n",
       "    <tr>\n",
       "      <th>1</th>\n",
       "      <td>2</td>\n",
       "      <td>2014-02-01</td>\n",
       "      <td>4</td>\n",
       "      <td>5</td>\n",
       "      <td>5000</td>\n",
       "    </tr>\n",
       "    <tr>\n",
       "      <th>2</th>\n",
       "      <td>3</td>\n",
       "      <td>2014-03-01</td>\n",
       "      <td>1</td>\n",
       "      <td>1</td>\n",
       "      <td>50000</td>\n",
       "    </tr>\n",
       "    <tr>\n",
       "      <th>3</th>\n",
       "      <td>4</td>\n",
       "      <td>2014-04-01</td>\n",
       "      <td>1</td>\n",
       "      <td>4</td>\n",
       "      <td>25000</td>\n",
       "    </tr>\n",
       "  </tbody>\n",
       "</table>\n",
       "</div>"
      ],
      "text/plain": [
       "   order_id order_date  com_id  sales_id  amount\n",
       "0         1 2014-01-01       3         4   10000\n",
       "1         2 2014-02-01       4         5    5000\n",
       "2         3 2014-03-01       1         1   50000\n",
       "3         4 2014-04-01       1         4   25000"
      ]
     },
     "metadata": {},
     "output_type": "display_data"
    }
   ],
   "source": [
    "data = [[1, 'John', 100000, 6, '4/1/2006'], [2, 'Amy', 12000, 5, '5/1/2010'], [3, 'Mark', 65000, 12, '12/25/2008'], [4, 'Pam', 25000, 25, '1/1/2005'], [5, 'Alex', 5000, 10, '2/3/2007']]\n",
    "sales_person = pd.DataFrame(data, columns=['sales_id', 'name', 'salary', 'commission_rate', 'hire_date']).astype({'sales_id':'Int64', 'name':'object', 'salary':'Int64', 'commission_rate':'Int64', 'hire_date':'datetime64[ns]'})\n",
    "data = [[1, 'RED', 'Boston'], [2, 'ORANGE', 'New York'], [3, 'YELLOW', 'Boston'], [4, 'GREEN', 'Austin']]\n",
    "company = pd.DataFrame(data, columns=['com_id', 'name', 'city']).astype({'com_id':'Int64', 'name':'object', 'city':'object'})\n",
    "data = [[1, '1/1/2014', 3, 4, 10000], [2, '2/1/2014', 4, 5, 5000], [3, '3/1/2014', 1, 1, 50000], [4, '4/1/2014', 1, 4, 25000]]\n",
    "orders = pd.DataFrame(data, columns=['order_id', 'order_date', 'com_id', 'sales_id', 'amount']).astype({'order_id':'Int64', 'order_date':'datetime64[ns]', 'com_id':'Int64', 'sales_id':'Int64', 'amount':'Int64'})\n",
    "display(sales_person)\n",
    "display(company)\n",
    "display(orders)"
   ]
  },
  {
   "cell_type": "code",
   "execution_count": 81,
   "id": "a68d6bfd",
   "metadata": {},
   "outputs": [
    {
     "data": {
      "text/html": [
       "<div>\n",
       "<style scoped>\n",
       "    .dataframe tbody tr th:only-of-type {\n",
       "        vertical-align: middle;\n",
       "    }\n",
       "\n",
       "    .dataframe tbody tr th {\n",
       "        vertical-align: top;\n",
       "    }\n",
       "\n",
       "    .dataframe thead th {\n",
       "        text-align: right;\n",
       "    }\n",
       "</style>\n",
       "<table border=\"1\" class=\"dataframe\">\n",
       "  <thead>\n",
       "    <tr style=\"text-align: right;\">\n",
       "      <th></th>\n",
       "      <th>name</th>\n",
       "    </tr>\n",
       "  </thead>\n",
       "  <tbody>\n",
       "    <tr>\n",
       "      <th>1</th>\n",
       "      <td>Amy</td>\n",
       "    </tr>\n",
       "    <tr>\n",
       "      <th>2</th>\n",
       "      <td>Mark</td>\n",
       "    </tr>\n",
       "    <tr>\n",
       "      <th>4</th>\n",
       "      <td>Alex</td>\n",
       "    </tr>\n",
       "  </tbody>\n",
       "</table>\n",
       "</div>"
      ],
      "text/plain": [
       "   name\n",
       "1   Amy\n",
       "2  Mark\n",
       "4  Alex"
      ]
     },
     "execution_count": 81,
     "metadata": {},
     "output_type": "execute_result"
    }
   ],
   "source": [
    "red_id = company[company['name'] == 'RED']['com_id']\n",
    "red_order_id = orders[orders['com_id'].isin(red_id)]['sales_id']\n",
    "pd.DataFrame(sales_person[~sales_person['sales_id'].isin(red_order_id)]['name'])"
   ]
  },
  {
   "cell_type": "markdown",
   "id": "5a60bd37",
   "metadata": {},
   "source": [
    "### **merge 연습하기**"
   ]
  },
  {
   "cell_type": "code",
   "execution_count": null,
   "id": "8c83634e",
   "metadata": {},
   "outputs": [
    {
     "data": {
      "text/plain": [
       "2    1\n",
       "3    4\n",
       "Name: sales_id, dtype: Int64"
      ]
     },
     "execution_count": 80,
     "metadata": {},
     "output_type": "execute_result"
    }
   ],
   "source": [
    "def sales_person(sales_person: pd.DataFrame, company: pd.DataFrame, orders: pd.DataFrame) -> pd.DataFrame:\n",
    "    df1 = pd.merge(orders,company,on='com_id', how='left')[['sales_id','name']]\n",
    "    df=  pd.merge(sales_person,df1, on='sales_id',how='left').rename(columns={'name_x':'name','name_y':'company_name'})[['name','company_name']]\n",
    "    df = df[df['company_name']==\"RED\"][['name']]\n",
    "    df3 = sales_person[~sales_person['name'].isin(df['name'])][['name']]\n",
    "    return df3"
   ]
  },
  {
   "cell_type": "code",
   "execution_count": 85,
   "id": "aa1949c0",
   "metadata": {},
   "outputs": [
    {
     "data": {
      "text/html": [
       "<div>\n",
       "<style scoped>\n",
       "    .dataframe tbody tr th:only-of-type {\n",
       "        vertical-align: middle;\n",
       "    }\n",
       "\n",
       "    .dataframe tbody tr th {\n",
       "        vertical-align: top;\n",
       "    }\n",
       "\n",
       "    .dataframe thead th {\n",
       "        text-align: right;\n",
       "    }\n",
       "</style>\n",
       "<table border=\"1\" class=\"dataframe\">\n",
       "  <thead>\n",
       "    <tr style=\"text-align: right;\">\n",
       "      <th></th>\n",
       "      <th>sales_id</th>\n",
       "      <th>name_x</th>\n",
       "      <th>salary</th>\n",
       "      <th>commission_rate</th>\n",
       "      <th>hire_date</th>\n",
       "      <th>name_y</th>\n",
       "    </tr>\n",
       "  </thead>\n",
       "  <tbody>\n",
       "    <tr>\n",
       "      <th>0</th>\n",
       "      <td>1</td>\n",
       "      <td>John</td>\n",
       "      <td>100000</td>\n",
       "      <td>6</td>\n",
       "      <td>2006-04-01</td>\n",
       "      <td>RED</td>\n",
       "    </tr>\n",
       "    <tr>\n",
       "      <th>1</th>\n",
       "      <td>2</td>\n",
       "      <td>Amy</td>\n",
       "      <td>12000</td>\n",
       "      <td>5</td>\n",
       "      <td>2010-05-01</td>\n",
       "      <td>NaN</td>\n",
       "    </tr>\n",
       "    <tr>\n",
       "      <th>2</th>\n",
       "      <td>3</td>\n",
       "      <td>Mark</td>\n",
       "      <td>65000</td>\n",
       "      <td>12</td>\n",
       "      <td>2008-12-25</td>\n",
       "      <td>NaN</td>\n",
       "    </tr>\n",
       "    <tr>\n",
       "      <th>3</th>\n",
       "      <td>4</td>\n",
       "      <td>Pam</td>\n",
       "      <td>25000</td>\n",
       "      <td>25</td>\n",
       "      <td>2005-01-01</td>\n",
       "      <td>YELLOW</td>\n",
       "    </tr>\n",
       "    <tr>\n",
       "      <th>4</th>\n",
       "      <td>4</td>\n",
       "      <td>Pam</td>\n",
       "      <td>25000</td>\n",
       "      <td>25</td>\n",
       "      <td>2005-01-01</td>\n",
       "      <td>RED</td>\n",
       "    </tr>\n",
       "    <tr>\n",
       "      <th>5</th>\n",
       "      <td>5</td>\n",
       "      <td>Alex</td>\n",
       "      <td>5000</td>\n",
       "      <td>10</td>\n",
       "      <td>2007-02-03</td>\n",
       "      <td>GREEN</td>\n",
       "    </tr>\n",
       "  </tbody>\n",
       "</table>\n",
       "</div>"
      ],
      "text/plain": [
       "   sales_id name_x  salary  commission_rate  hire_date  name_y\n",
       "0         1   John  100000                6 2006-04-01     RED\n",
       "1         2    Amy   12000                5 2010-05-01     NaN\n",
       "2         3   Mark   65000               12 2008-12-25     NaN\n",
       "3         4    Pam   25000               25 2005-01-01  YELLOW\n",
       "4         4    Pam   25000               25 2005-01-01     RED\n",
       "5         5   Alex    5000               10 2007-02-03   GREEN"
      ]
     },
     "execution_count": 85,
     "metadata": {},
     "output_type": "execute_result"
    }
   ],
   "source": [
    "df1 = pd.merge(orders,company,on='com_id', how='left')[['sales_id','name']]\n",
    "pd.merge(sales_person,df1, on='sales_id',how='left')"
   ]
  },
  {
   "cell_type": "markdown",
   "id": "2aad4a79",
   "metadata": {},
   "source": [
    "## 608. Tree Node\n",
    "\n",
    "Each node in the tree can be one of three types:\n",
    "\n",
    "- \"Leaf\": if the node is a leaf node.\n",
    "- \"Root\": if the node is the root of the tree.\n",
    "- \"Inner\": If the node is neither a leaf node nor a root node.\n",
    "\n",
    "Write a solution to report the type of each node in the tree.\n",
    "\n",
    "Return the result table in any order.\n",
    "\n",
    "The result format is in the following example."
   ]
  },
  {
   "cell_type": "code",
   "execution_count": 87,
   "id": "b4ce0f2b",
   "metadata": {},
   "outputs": [
    {
     "data": {
      "text/html": [
       "<div>\n",
       "<style scoped>\n",
       "    .dataframe tbody tr th:only-of-type {\n",
       "        vertical-align: middle;\n",
       "    }\n",
       "\n",
       "    .dataframe tbody tr th {\n",
       "        vertical-align: top;\n",
       "    }\n",
       "\n",
       "    .dataframe thead th {\n",
       "        text-align: right;\n",
       "    }\n",
       "</style>\n",
       "<table border=\"1\" class=\"dataframe\">\n",
       "  <thead>\n",
       "    <tr style=\"text-align: right;\">\n",
       "      <th></th>\n",
       "      <th>id</th>\n",
       "      <th>p_id</th>\n",
       "    </tr>\n",
       "  </thead>\n",
       "  <tbody>\n",
       "    <tr>\n",
       "      <th>0</th>\n",
       "      <td>1</td>\n",
       "      <td>&lt;NA&gt;</td>\n",
       "    </tr>\n",
       "    <tr>\n",
       "      <th>1</th>\n",
       "      <td>2</td>\n",
       "      <td>1</td>\n",
       "    </tr>\n",
       "    <tr>\n",
       "      <th>2</th>\n",
       "      <td>3</td>\n",
       "      <td>1</td>\n",
       "    </tr>\n",
       "    <tr>\n",
       "      <th>3</th>\n",
       "      <td>4</td>\n",
       "      <td>2</td>\n",
       "    </tr>\n",
       "    <tr>\n",
       "      <th>4</th>\n",
       "      <td>5</td>\n",
       "      <td>2</td>\n",
       "    </tr>\n",
       "  </tbody>\n",
       "</table>\n",
       "</div>"
      ],
      "text/plain": [
       "   id  p_id\n",
       "0   1  <NA>\n",
       "1   2     1\n",
       "2   3     1\n",
       "3   4     2\n",
       "4   5     2"
      ]
     },
     "metadata": {},
     "output_type": "display_data"
    }
   ],
   "source": [
    "data = [[1, None], [2, 1], [3, 1], [4, 2], [5, 2]]\n",
    "tree = pd.DataFrame(data, columns=['id', 'p_id']).astype({'id':'Int64', 'p_id':'Int64'})\n",
    "display(tree)"
   ]
  },
  {
   "cell_type": "code",
   "execution_count": 126,
   "id": "8333f094",
   "metadata": {},
   "outputs": [],
   "source": [
    "start = tree['id'].unique()\n",
    "end = tree['p_id'].unique()\n",
    "leaf = tree[~tree['id'].isin(end)]['id']\n",
    "root = tree[~tree['id'].isin(tree.dropna()['id'])]['id']\n",
    "inner = tree[~tree['id'].isin(pd.concat([root, leaf]))]['id']"
   ]
  },
  {
   "cell_type": "code",
   "execution_count": 127,
   "id": "f240e31b",
   "metadata": {},
   "outputs": [
    {
     "data": {
      "text/html": [
       "<div>\n",
       "<style scoped>\n",
       "    .dataframe tbody tr th:only-of-type {\n",
       "        vertical-align: middle;\n",
       "    }\n",
       "\n",
       "    .dataframe tbody tr th {\n",
       "        vertical-align: top;\n",
       "    }\n",
       "\n",
       "    .dataframe thead th {\n",
       "        text-align: right;\n",
       "    }\n",
       "</style>\n",
       "<table border=\"1\" class=\"dataframe\">\n",
       "  <thead>\n",
       "    <tr style=\"text-align: right;\">\n",
       "      <th></th>\n",
       "      <th>id</th>\n",
       "      <th>type</th>\n",
       "    </tr>\n",
       "  </thead>\n",
       "  <tbody>\n",
       "    <tr>\n",
       "      <th>0</th>\n",
       "      <td>1</td>\n",
       "      <td>Root</td>\n",
       "    </tr>\n",
       "    <tr>\n",
       "      <th>1</th>\n",
       "      <td>2</td>\n",
       "      <td>Inner</td>\n",
       "    </tr>\n",
       "    <tr>\n",
       "      <th>2</th>\n",
       "      <td>3</td>\n",
       "      <td>Leaf</td>\n",
       "    </tr>\n",
       "    <tr>\n",
       "      <th>3</th>\n",
       "      <td>4</td>\n",
       "      <td>Leaf</td>\n",
       "    </tr>\n",
       "    <tr>\n",
       "      <th>4</th>\n",
       "      <td>5</td>\n",
       "      <td>Leaf</td>\n",
       "    </tr>\n",
       "  </tbody>\n",
       "</table>\n",
       "</div>"
      ],
      "text/plain": [
       "   id   type\n",
       "0   1   Root\n",
       "1   2  Inner\n",
       "2   3   Leaf\n",
       "3   4   Leaf\n",
       "4   5   Leaf"
      ]
     },
     "execution_count": 127,
     "metadata": {},
     "output_type": "execute_result"
    }
   ],
   "source": [
    "pd.DataFrame({'id': pd.concat([root, inner, leaf]), 'type': ['Root']*len(root) + ['Inner']*len(inner) + ['Leaf']*len(leaf)})"
   ]
  },
  {
   "cell_type": "markdown",
   "id": "9ee93a5a",
   "metadata": {},
   "source": [
    "- id 중에 p_id에 없으면 leaft 노드\n",
    "- p_id null인 id는 root 노드\n",
    "- 나머지는 inner 노드"
   ]
  },
  {
   "cell_type": "code",
   "execution_count": null,
   "id": "8fbd4509",
   "metadata": {},
   "outputs": [
    {
     "data": {
      "text/plain": [
       "False"
      ]
     },
     "execution_count": 131,
     "metadata": {},
     "output_type": "execute_result"
    }
   ],
   "source": [
    "def tree_node(tree: pd.DataFrame) -> pd.DataFrame:\n",
    "    if tree.empty:\n",
    "        return pd.DataFrame(columns=['id', 'type'])\n",
    "    \n",
    "    parents_node = tree['p_id'].unique()\n",
    "\n",
    "    node_id = tree['id']\n",
    "    parent_id = tree['id']\n",
    "    for row in tree\n",
    "    if pd.isna(parent_id):\n",
    "        "
   ]
  },
  {
   "cell_type": "code",
   "execution_count": null,
   "id": "93611d57",
   "metadata": {},
   "outputs": [],
   "source": []
  }
 ],
 "metadata": {
  "kernelspec": {
   "display_name": ".venv",
   "language": "python",
   "name": "python3"
  },
  "language_info": {
   "codemirror_mode": {
    "name": "ipython",
    "version": 3
   },
   "file_extension": ".py",
   "mimetype": "text/x-python",
   "name": "python",
   "nbconvert_exporter": "python",
   "pygments_lexer": "ipython3",
   "version": "3.11.9"
  }
 },
 "nbformat": 4,
 "nbformat_minor": 5
}
